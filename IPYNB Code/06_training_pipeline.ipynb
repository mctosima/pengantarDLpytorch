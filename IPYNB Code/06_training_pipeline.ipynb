{
 "cells": [
  {
   "cell_type": "markdown",
   "metadata": {},
   "source": [
    "# Training Pipeline\n",
    "## Mendesain Model"
   ]
  },
  {
   "cell_type": "code",
   "execution_count": null,
   "metadata": {},
   "outputs": [],
   "source": [
    "# Mengimpor Library\n",
    "import torch\n",
    "import torch.nn as nn\n",
    "\n",
    "X = torch.tensor([[1], [2], [3], [4]], dtype=torch.float32)\n",
    "Y = torch.tensor([[2], [3], [4], [5]], dtype=torch.float32)\n",
    "\n",
    "n_samples, n_features = X.shape\n",
    "print(n_samples, n_features)\n",
    "\n",
    "input_size = n_features\n",
    "output_size = n_features"
   ]
  },
  {
   "cell_type": "code",
   "execution_count": null,
   "metadata": {
    "pycharm": {
     "name": "#%%\n"
    }
   },
   "outputs": [],
   "source": [
    "# Mendesain Model\n",
    "model = nn.Linear(input_size, output_size)\n",
    "\n",
    "X_test = torch.tensor([[25]], dtype=torch.float32)\n",
    "print(f'Prediksi Awal: {model(X_test).item()}')"
   ]
  },
  {
   "cell_type": "markdown",
   "metadata": {},
   "source": [
    "## Merancang loss dan optimizer"
   ]
  },
  {
   "cell_type": "code",
   "execution_count": null,
   "metadata": {
    "pycharm": {
     "name": "#%%\n"
    }
   },
   "outputs": [],
   "source": [
    "def forward(x):\n",
    "    return x * w\n",
    "\n",
    "\n",
    "# Menggunakan loss function dari torch\n",
    "loss = nn.MSELoss()     # Mean Squared Error Loss\n",
    "\n",
    "# Menggunakan optimizer dari torch\n",
    "optimizer = torch.optim.SGD(model.parameters(), lr=0.001)   # Stochastic Gradient Descent optimizer"
   ]
  },
  {
   "cell_type": "markdown",
   "metadata": {},
   "source": [
    "## Training Loop"
   ]
  },
  {
   "cell_type": "code",
   "execution_count": null,
   "metadata": {
    "pycharm": {
     "name": "#%%\n"
    }
   },
   "outputs": [],
   "source": [
    "n_iters = 1000\n",
    "\n",
    "for epoch in range(n_iters):\n",
    "    # forward pass\n",
    "    y_pred = model(X)\n",
    "\n",
    "    # backward pass\n",
    "    l = loss(Y, y_pred)\n",
    "\n",
    "    # gradients\n",
    "    l.backward()\n",
    "\n",
    "    # memperbaharui weights\n",
    "    optimizer.step()\n",
    "\n",
    "    # menghapus gradient\n",
    "    optimizer.zero_grad()\n",
    "\n",
    "    # menyimpan bias dan weights\n",
    "    [w, b] = model.parameters()\n",
    "\n",
    "    # mencetak nilai weight, bias, dan loss dengan progress bar\n",
    "    if epoch % 50 == 0:\n",
    "        print(f'Epoch {epoch+1}/{n_iters}')\n",
    "        print(f'Weight: {w.item()}')\n",
    "        print(f'Bias: {b.item()}')\n",
    "        print(f'Loss: {l.item()}')\n",
    "        print()"
   ]
  },
  {
   "cell_type": "code",
   "execution_count": null,
   "metadata": {
    "pycharm": {
     "name": "#%%\n"
    }
   },
   "outputs": [],
   "source": [
    "# prediksi setelah training\n",
    "print(f'Prediksi Akhir: {model(X_test).item()}')"
   ]
  }
 ],
 "metadata": {
  "kernelspec": {
   "display_name": "Python 3",
   "language": "python",
   "name": "python3"
  },
  "language_info": {
   "codemirror_mode": {
    "name": "ipython",
    "version": 2
   },
   "file_extension": ".py",
   "mimetype": "text/x-python",
   "name": "python",
   "nbconvert_exporter": "python",
   "pygments_lexer": "ipython2",
   "version": "2.7.6"
  }
 },
 "nbformat": 4,
 "nbformat_minor": 0
}
