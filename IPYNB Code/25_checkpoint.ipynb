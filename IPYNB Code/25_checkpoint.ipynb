{
 "cells": [
  {
   "cell_type": "markdown",
   "metadata": {},
   "source": [
    "<div align = \"center\">\n",
    "\n",
    "# **Menyimpan dan Memuat Model serta Checkpoint**\n",
    "\n",
    "</div>\n",
    "\n",
    "> Pada tutorial ini akan dibahas secara komprehensif cara-cara untuk menyimpan dan memuat model, serta menyimpan checkpoint ketika melakukan training. Juga akan dibahas cara-cara untuk menyimpan parameter secara online menggunakan wandb.\n",
    "\n",
    "### Mengimpor library"
   ]
  },
  {
   "cell_type": "code",
   "execution_count": null,
   "metadata": {},
   "outputs": [],
   "source": [
    "import torch\n",
    "import torch.nn as nn"
   ]
  },
  {
   "cell_type": "markdown",
   "metadata": {},
   "source": [
    "---\n",
    "## **Menyimpan Model** (Metode Sederhana)\n",
    "\n",
    "Misalnya kita memiliki model sebagai berikut"
   ]
  },
  {
   "cell_type": "code",
   "execution_count": null,
   "metadata": {},
   "outputs": [],
   "source": [
    "class ContohModel(nn.Module):\n",
    "    def __init__(self, n_input):\n",
    "        super().__init__()\n",
    "        self.linear = nn.Linear(n_input, 1)\n",
    "\n",
    "    def forward(self, x):\n",
    "        preds = torch.sigmoid(self.linear(x))\n",
    "        return preds\n",
    "\n",
    "model = ContohModel(n_input=6)"
   ]
  },
  {
   "cell_type": "markdown",
   "metadata": {},
   "source": [
    "Anggaplah model diatas sudah dilatih. Untuk menyimpan model ini secara sederhana, dapat dilakukan dengan:\n",
    "\n",
    "```python\n",
    "torch.save(model, FILE)\n",
    "```\n",
    "\n",
    "Apabila model ingin disimpan di direktori lain, silahkan masukkan path pada `FILE`"
   ]
  },
  {
   "cell_type": "code",
   "execution_count": null,
   "metadata": {},
   "outputs": [],
   "source": [
    "NAMAFILE = 'contohmodel.pth'\n",
    "torch.save(model, NAMAFILE)"
   ]
  },
  {
   "cell_type": "markdown",
   "metadata": {},
   "source": [
    "**Memuat Model** (Metode Sederhana)\n",
    "Untuk mencetak setiap parameter di model, dapat dilakukan dengan:\n",
    "\n",
    "```python\n",
    "for param in model.parameters():\n",
    "    print(param)\n",
    "```\n"
   ]
  },
  {
   "cell_type": "code",
   "execution_count": null,
   "metadata": {},
   "outputs": [],
   "source": [
    "model = torch.load(NAMAFILE)\n",
    "model.eval()\n",
    "\n",
    "print(model)\n",
    "\n",
    "for param in model.parameters():\n",
    "    print(param)\n",
    "\n",
    "# dan dilanjutkan dengan proses evaluasi"
   ]
  },
  {
   "cell_type": "markdown",
   "metadata": {},
   "source": [
    "---\n",
    "## **Menyimpan Model** Dengan `State_Dict`\n",
    "\n",
    "Cara menyimpannya adalah sebagai berikut:"
   ]
  },
  {
   "cell_type": "code",
   "execution_count": null,
   "metadata": {},
   "outputs": [],
   "source": [
    "NAMAFILE2 = 'contohmodel2.pth'\n",
    "torch.save(model.state_dict(), NAMAFILE2)"
   ]
  },
  {
   "cell_type": "markdown",
   "metadata": {},
   "source": [
    "Sementara itu cara memuatnya agak sedikit berbeda. Dengan cara ini yang disimpan adalah sebuah dictionary yang berisi informasi model."
   ]
  },
  {
   "cell_type": "code",
   "execution_count": null,
   "metadata": {},
   "outputs": [],
   "source": [
    "model2 = ContohModel(n_input=6)\n",
    "model_yangdimuat = torch.load(NAMAFILE2)\n",
    "model2.load_state_dict(model_yangdimuat)\n",
    "print(model2)\n",
    "\n",
    "model2.eval()\n",
    "\n",
    "for param in model2.parameters():\n",
    "    print(param)"
   ]
  },
  {
   "cell_type": "markdown",
   "metadata": {},
   "source": [
    "> Penjelasan: Apa yang dimaksud dengan state_dict?\n",
    "\n",
    "State_dict menyimpan nilai dari parameter dari setiap layer yang ada pada model. Pada model _dummy_ yang kita buat diatas hanya terdapat satu layer berupa linear layer yang memiliki parameter berupa weight dan bias. Dikarenakan kita menggunakan 6 input, maka parameter yang tersimpan adalah sebuah tensor berisi enam buah elemen weight beserta elemen bias. Mari kita coba print state_dict untuk melihat elemen tersebut."
   ]
  },
  {
   "cell_type": "code",
   "execution_count": null,
   "metadata": {},
   "outputs": [],
   "source": [
    "print(model2.state_dict())"
   ]
  },
  {
   "cell_type": "markdown",
   "metadata": {},
   "source": [
    "Bahkan, state_dict juga menyimpan parameter untuk optimizer"
   ]
  },
  {
   "cell_type": "code",
   "execution_count": null,
   "metadata": {},
   "outputs": [],
   "source": [
    "l_rate = 0.01\n",
    "optimizer = torch.optim.Adam(model2.parameters(), lr=l_rate)\n",
    "print(optimizer.state_dict())"
   ]
  },
  {
   "cell_type": "markdown",
   "metadata": {},
   "source": [
    "---\n",
    "## **Checkpoint**\n",
    "\n",
    "Menyimpan dan memuat model checkpoint dilakukan supaya model dapat dikembalikan ke state yang sama ketika melakukan training. Kasus penggunaan checkpoint yang kerap ditemukan adalah ketika melanjutkan proses training yang terhenti. Saat menyimpan pos pemeriksaan umum, item yang harus disimpan lebih dari sekadar state_dict model."
   ]
  },
  {
   "cell_type": "code",
   "execution_count": null,
   "metadata": {},
   "outputs": [],
   "source": [
    "checkpoint = {\n",
    "    \"epoch\": 90,\n",
    "    \"model_state\": model2.state_dict(),\n",
    "    \"optim_state\": optimizer.state_dict(),\n",
    "}\n",
    "\n",
    "torch.save(checkpoint, 'checkpoint.pth')"
   ]
  },
  {
   "cell_type": "code",
   "execution_count": null,
   "metadata": {},
   "outputs": [],
   "source": [
    "load_ckpth = torch.load('checkpoint.pth')\n",
    "epoch = load_ckpth['epoch']\n",
    "\n",
    "# memuat kembali model dan optimizer\n",
    "model3 = ContohModel(n_input=6)\n",
    "optimizer = torch.optim.Adam(model3.parameters(), lr=0) # lr dapat dikosongkan dan dimuat kembali kemudian\n",
    "\n",
    "model3.load_state_dict(load_ckpth['model_state'])\n",
    "optimizer.load_state_dict(load_ckpth['optim_state'])\n",
    "\n",
    "print(model3.state_dict())\n",
    "print(optimizer.state_dict())\n"
   ]
  },
  {
   "cell_type": "markdown",
   "metadata": {},
   "source": [
    "---\n",
    "## **Menyimpan dari dan ke device yang berbeda**"
   ]
  },
  {
   "cell_type": "markdown",
   "metadata": {},
   "source": [
    "Jika anda memiliki model yang berada di device yang berbeda, maka ada sedikit hal yang harus dilakukan ketika menyimpan state_dict dari model\n",
    "\n",
    "Contoh menyimpan model dari GPU dan memuatnya di CPU"
   ]
  },
  {
   "cell_type": "code",
   "execution_count": null,
   "metadata": {},
   "outputs": [],
   "source": [
    "# Model yang di train pada GPU, dimuat di CPU\n",
    "\n",
    "device = torch.device(\"cuda\")\n",
    "model.to(device)\n",
    "## anggap model sudah dilatih\n",
    "torch.save(model.state_dict(), 'model_gpu.pth')\n",
    "\n",
    "# cara memuat\n",
    "device = torch.device(\"cpu\")\n",
    "model = ContohModel(n_input=6)\n",
    "model.load_state_dict(torch.load('model_gpu.pth', map_location=device))"
   ]
  },
  {
   "cell_type": "code",
   "execution_count": null,
   "metadata": {},
   "outputs": [],
   "source": [
    "device = torch.device(\"cpu\")\n",
    "model = ContohModel(n_input=9)\n",
    "torch.save(model.state_dict(), 'model_cpu.pth')\n",
    "\n",
    "# cara memuat\n",
    "device = torch.device(\"cuda\")\n",
    "model = ContohModel(n_input=9)\n",
    "model.load_state_dict(torch.load('model_cpu.pth', map_location=\"cuda:0\"))\n",
    "model.to(device)"
   ]
  },
  {
   "cell_type": "markdown",
   "metadata": {},
   "source": [
    "---\n",
    "# Referensi\n",
    "[Pytorch Saving and Loading Checkpoint](https://pytorch.org/tutorials/recipes/recipes/saving_and_loading_a_general_checkpoint.html)"
   ]
  }
 ],
 "metadata": {
  "interpreter": {
   "hash": "48b01bbe2a5925c925c77e8564d4aca619d3db5d4d3ae75ad89e487aa7bce479"
  },
  "kernelspec": {
   "display_name": "Python 3.9.12 ('pytorch-nightly')",
   "language": "python",
   "name": "python3"
  },
  "language_info": {
   "codemirror_mode": {
    "name": "ipython",
    "version": 3
   },
   "file_extension": ".py",
   "mimetype": "text/x-python",
   "name": "python",
   "nbconvert_exporter": "python",
   "pygments_lexer": "ipython3",
   "version": "3.9.12"
  }
 },
 "nbformat": 4,
 "nbformat_minor": 2
}
