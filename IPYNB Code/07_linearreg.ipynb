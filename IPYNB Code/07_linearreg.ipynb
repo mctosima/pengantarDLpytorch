{
 "cells": [
  {
   "cell_type": "markdown",
   "metadata": {},
   "source": [
    "# Mencoba Implementasi Regresi Linear\n",
    "Sebelumnya kita telah mempelajari ide dari training, gradient descent, dan backpropagation. Pada bagian ini kita akan mencoba mengimplementasikan regresi linear, termasuk membahas tentang data pipeline, model, loss function, dan optimizer menggunakan stochastic gradient descent.\n",
    "\n",
    "### Import Library yang Digunakan"
   ]
  },
  {
   "cell_type": "code",
   "execution_count": null,
   "metadata": {},
   "outputs": [],
   "source": [
    "import random\n",
    "import torch\n",
    "import matplotlib.pyplot as plt"
   ]
  },
  {
   "cell_type": "markdown",
   "metadata": {},
   "source": [
    "### Membuat fungsi untuk generate data sintesis\n",
    "Data sintetis yang dibuat dari fungsi ini adalah sebagai berikut:"
   ]
  },
  {
   "cell_type": "code",
   "execution_count": null,
   "metadata": {
    "pycharm": {
     "name": "#%%\n"
    }
   },
   "outputs": [],
   "source": [
    "def datasintetis(w, b, jumlah_data):\n",
    "    X = torch.normal(0, 1, (jumlah_data, len(w))) # bangkitkan data acak sejumlah `jumlah_data`\n",
    "    y = torch.matmul(X, w) + b\n",
    "    y += torch.normal(0, 0.1, y.shape)\n",
    "    return X, y.reshape((-1, 1))"
   ]
  },
  {
   "cell_type": "markdown",
   "metadata": {},
   "source": [
    "### Membangkitkan data sintesis dengan mendefinisikan target *weight* dan *bias*"
   ]
  },
  {
   "cell_type": "code",
   "execution_count": null,
   "metadata": {
    "pycharm": {
     "name": "#%%\n"
    }
   },
   "outputs": [],
   "source": [
    "# w dan b asli hanya digunakan untuk generate data sintesis\n",
    "w_asli = torch.tensor([2, -3.4])\n",
    "b_asli = 4.2\n",
    "\n",
    "# generate data sintesis sejumlah 1000 data berdasarkan w dan b asli\n",
    "# dalam hal ini $y = 2x1 - 3.4x2 + 4.2$\n",
    "X, y = datasintetis(w_asli, b_asli, 1000)\n",
    "print(X.shape, y.shape)\n",
    "\n",
    "# scatter plot data sintesis\n",
    "plt.scatter(X[:, (1)].detach().numpy(), y.detach().numpy(), 1)"
   ]
  },
  {
   "cell_type": "markdown",
   "metadata": {},
   "source": [
    "### Membaca Dataset"
   ]
  },
  {
   "cell_type": "code",
   "execution_count": null,
   "metadata": {
    "pycharm": {
     "name": "#%%\n"
    }
   },
   "outputs": [],
   "source": [
    "def memuat_data(batch_size, X, y):\n",
    "    # menghitung panjang data masukan\n",
    "    banyaknya_data = len(X)\n",
    "    # memberikan indeks dari data yang akan dijadikan mini-batch\n",
    "    indices = list(range(banyaknya_data))\n",
    "    # mengacak urutan data\n",
    "    random.shuffle(indices)\n",
    "\n",
    "    for i in range(0, banyaknya_data, batch_size):\n",
    "        batch_indices = torch.tensor(indices[i: min(i + batch_size, banyaknya_data)])\n",
    "        yield X[batch_indices], y[batch_indices]\n",
    "\n",
    "\n",
    "batch_size = 10\n",
    "\n",
    "for X, y in memuat_data(batch_size, X, y):\n",
    "    print(X, '\\n', y)"
   ]
  },
  {
   "cell_type": "markdown",
   "metadata": {},
   "source": [
    "Yield adalah salah satu cara kita untuk mengembalikan sebuah value dan menghentikan sementara eksekusi function yang sedang berjalan. Biasanya ekspresi `yield` digunakan dalam [fungsi yang bersifat sebagai generator](https://docs.python.org/3/glossary.html#term-generator)\n",
    "\n",
    "Lihat lebih lanjut mengenai ekspresi `yield` pada Python [disni](https://docs.python.org/3/reference/expressions.html#yieldexpr)"
   ]
  },
  {
   "cell_type": "code",
   "execution_count": null,
   "metadata": {
    "pycharm": {
     "name": "#%%\n"
    }
   },
   "outputs": [],
   "source": [
    "def simpleGeneratorFun():\n",
    "    yield 1\n",
    "    yield 2\n",
    "    yield 3\n",
    "\n",
    "# fungsi generator dipanggil berkali-kali untuk membangkitkan data hingga eksperi yield yang paling akhir pada fungsi generator \n",
    "for value in simpleGeneratorFun():\n",
    "    print(\"Hasil dari yield adalah: \", value)\n",
    "\n",
    "\n",
    "def simpleGenerator():\n",
    "    yield 9\n",
    "    return 8\n",
    "\n",
    "\n",
    "for value in simpleGenerator():\n",
    "    print(\"Hasil dari return adalah: \", value) # hanya mengembalikan nilai pada ekspresi yield, nilai yang di return tidak akan ditampilkan"
   ]
  },
  {
   "cell_type": "markdown",
   "metadata": {
    "pycharm": {
     "name": "#%% md\n"
    }
   },
   "source": [
    "### Inisiialisasi Weight, Bias, Model, Loss Function dan Optimizer"
   ]
  },
  {
   "cell_type": "code",
   "execution_count": null,
   "metadata": {
    "pycharm": {
     "name": "#%%\n"
    }
   },
   "outputs": [],
   "source": [
    "# inisiasi weight dan bias\n",
    "w = torch.normal(0, 0.01, size=(2, 1), requires_grad=True)\n",
    "b = torch.zeros(1, requires_grad=True)\n",
    "\n",
    "\n",
    "# menentukan model linear regression\n",
    "def linreg(X, w, b):\n",
    "    return torch.matmul(X, w) + b # model regresi linear $y = Xw + b$, X adalah data dan y adalah output regresi\n",
    "\n",
    "\n",
    "# menentukan loss function\n",
    "def squared_loss(y_hat, y):\n",
    "    return (y_hat - y.view(y_hat.shape)) ** 2 / 2 # mean squared error loss\n",
    "\n",
    "\n",
    "# menentukan optimizer\n",
    "def sgd(params, lr, batch_size):\n",
    "    with torch.no_grad():\n",
    "        for param in params:\n",
    "            param -= lr * param.grad / batch_size # update weight dan bias menggunakan stochastic gradient descent\n",
    "            param.grad.zero_()"
   ]
  },
  {
   "cell_type": "markdown",
   "metadata": {},
   "source": [
    "### Melakukan Training"
   ]
  },
  {
   "cell_type": "code",
   "execution_count": null,
   "metadata": {
    "pycharm": {
     "name": "#%%\n"
    }
   },
   "outputs": [],
   "source": [
    "# menentukan learning rate dan epoch\n",
    "lr = 0.01\n",
    "epoch = 3\n",
    "\n",
    "for epoch in range(epoch):\n",
    "    for X, y in memuat_data(batch_size, X, y):\n",
    "        # menghitung prediksi\n",
    "        nilai_loss = squared_loss(linreg(X, w, b), y)\n",
    "        # menghitung gradien\n",
    "        nilai_loss.sum().backward()\n",
    "        # mengupdate nilai weight dan bias\n",
    "        sgd([w, b], lr, batch_size)\n",
    "    with torch.no_grad():\n",
    "        # menampilkan nilai loss\n",
    "        print('Epoch {}, nilai loss: {:.2f}, nilai w: {:.2f}, nilai b: {:.2f}'\n",
    "              .format(epoch + 1, nilai_loss.sum().item(), w[0].item(), b.item()))"
   ]
  },
  {
   "cell_type": "markdown",
   "metadata": {},
   "source": [
    "Karena kita mengetahui nilai weight dan bias yang sesungguhnya, kita dapat mengkalkulasi prediksi yang benar dengan menggunakan model yang sudah kita buat."
   ]
  },
  {
   "cell_type": "code",
   "execution_count": null,
   "metadata": {
    "pycharm": {
     "name": "#%%\n"
    }
   },
   "outputs": [],
   "source": [
    "# Menghitung error terhadap nilai weight dan bias yang sesungguhnya\n",
    "print(\"Error dalam menghitung w: \", (w_asli - w.reshape(w_asli.shape)).data.numpy())\n",
    "print(\"Error dalam menghitung b: \", (b - b_asli).norm().item())"
   ]
  }
 ],
 "metadata": {
  "kernelspec": {
   "display_name": "Python 3",
   "language": "python",
   "name": "python3"
  },
  "language_info": {
   "codemirror_mode": {
    "name": "ipython",
    "version": 2
   },
   "file_extension": ".py",
   "mimetype": "text/x-python",
   "name": "python",
   "nbconvert_exporter": "python",
   "pygments_lexer": "ipython2",
   "version": "2.7.6"
  }
 },
 "nbformat": 4,
 "nbformat_minor": 0
}
