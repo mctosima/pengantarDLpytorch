{
 "cells": [
  {
   "cell_type": "markdown",
   "metadata": {},
   "source": [
    "# Sequence Model dengan RNN\n",
    "\n",
    "Pada bagian ini kita akan mencoba memprediksi sebuah sinyal sinusoidal dengan menggunakan model RNN. Setiap sampel sinyal akan diubah dalam bentuk empat buah fitur sekuensial berdasarkan masukan-masukan sebelumnya."
   ]
  },
  {
   "cell_type": "code",
   "execution_count": null,
   "metadata": {},
   "outputs": [],
   "source": [
    "import torch\n",
    "import torch.nn as nn\n",
    "import matplotlib.pyplot as plt\n",
    "from torch.utils.data import TensorDataset, DataLoader\n",
    "from d2l import torch as d2l"
   ]
  },
  {
   "cell_type": "markdown",
   "metadata": {},
   "source": [
    "## Kode\n",
    "\n",
    "### Membuat data masukan\n",
    "- ```T = 1000``` adalah jumlah data yang akan dibuat\n",
    "- ```time = torch.arange(1, T + 1)``` adalah timeline waktu yang akan dibuat\n",
    "- Nilai ```x``` didapat dengan menggunakan fungsi ```torch.sin``, yaitu membuat sinus dari waktu dan memberikan noise melalui ```torch.normal``` dengan mean 0 dan standar deviasi 0.2"
   ]
  },
  {
   "cell_type": "code",
   "execution_count": null,
   "metadata": {},
   "outputs": [],
   "source": [
    "T = 1000  # jumlah data\n",
    "time = torch.arange(1, T + 1, dtype=torch.float32)  # sumbu x berupa waktu\n",
    "x = torch.sin(0.01 * time)\n",
    "x = x + torch.normal(0, 0.2, (T,))\n",
    "\n",
    "'''\n",
    "mari kita coba plot data yang akan kita masukkan ke RNN. Untuk plot yang lebih singkat, dapat menggunakan perintah di bawah ini.\n",
    "d2l.plot(X=time, Y=x, xlabel='time', ylabel='x', xlim=[1, T])\n",
    "'''\n",
    "\n",
    "plt.plot(time,x)\n",
    "plt.xlabel('time')\n",
    "plt.ylabel('x')\n",
    "plt.grid()\n",
    "plt.show()\n",
    "\n"
   ]
  },
  {
   "cell_type": "markdown",
   "metadata": {},
   "source": [
    "Pada bagian selanjutnya, kita membuat feature dan labels yang akan digunakan untuk memprediksi sinus.\n",
    "- Features adalah input ```x``` yang dipecah per setiap 4 data (lihat ilustrasi di bawah)\n",
    "- labels adalah output yang seharusnya terhadap ```x```\n",
    "\n",
    "<div>\n",
    "<center>\n",
    "<img src=\"../assets/featurernn1.png\", width=\"500\">\n",
    "</div>"
   ]
  },
  {
   "cell_type": "code",
   "execution_count": null,
   "metadata": {},
   "outputs": [],
   "source": [
    "tau = 4\n",
    "features = torch.zeros((T - tau, tau))  # membuat matrix berisi '0' sebanyak 996 baris dan 4 kolom\n",
    "\n",
    "print(range(tau))\n",
    "\n",
    "for i in range(tau):  # dari 0 sampai 3\n",
    "    features[:, i] = x[i:T - tau + i]\n",
    "    \n",
    "labels = x[tau:].reshape(-1, 1)\n",
    "\n",
    "print(f'Data yang di sintesis:',x[0:10])\n",
    "print(f'Label:',labels[0:6])\n",
    "print(f'Features:',features[0:6])"
   ]
  },
  {
   "cell_type": "code",
   "execution_count": null,
   "metadata": {},
   "outputs": [],
   "source": []
  },
  {
   "cell_type": "markdown",
   "metadata": {},
   "source": [
    "## Dataset Dataloader\n",
    "\n",
    "- ```batch_size = 16``` adalah jumlah data yang akan dibuat dalam satu batch\n",
    "- ```n_train = 600``` adalah jumlah data yang akan digunakan untuk training (600 dari 1000)\n",
    "- Fungsi ```TensorDataset``` dan ```DataLoader``` bersumber dari library ```torch.utils.data```"
   ]
  },
  {
   "cell_type": "code",
   "execution_count": null,
   "metadata": {},
   "outputs": [],
   "source": [
    "batch_size = 16\n",
    "n_train = 600 # banyaknya data yang digunakan untuk training\n",
    "\n",
    "train_dataset = TensorDataset(features[:n_train], labels[:n_train])\n",
    "train_dataloader = DataLoader(train_dataset, batch_size=batch_size, shuffle=True)"
   ]
  },
  {
   "cell_type": "markdown",
   "metadata": {},
   "source": [
    "## Mendefinisikan model\n",
    "Model sederhana yang kita gunakan terdiri dari tiga layer:\n",
    "- Layer pertama adalah linear layer dengan masukan 4 dan keluaran 10. Mengapa 4? Karena feature yang kita miliki adalah 4 data.\n",
    "- Layer kedua juga merupakan linear layer dengan masukan 10 dan keluaran 1. Mengapa 1 keluaran? Karena kita hanya ingin mengetahui sinus selanjutnya dari keempat masuka\n",
    "\n",
    "Untuk loss yang kita gunakan adalah MSELoss"
   ]
  },
  {
   "cell_type": "code",
   "execution_count": null,
   "metadata": {},
   "outputs": [],
   "source": [
    "def simple_mlp():\n",
    "    net = nn.Sequential(nn.Linear(4,10),\n",
    "                        nn.ReLU(),\n",
    "                        nn.Linear(10,1))\n",
    "    return net\n",
    "\n",
    "criterion = nn.MSELoss()"
   ]
  },
  {
   "cell_type": "markdown",
   "metadata": {},
   "source": [
    "## Melakukan Training\n",
    "- Pada bagian ini kita akan melakukan iterasi untuk training.\n",
    "- Optimizer yang kita gunakan adalah Adam dengan learning rate 0.01.\n",
    "- Jumlah epoch yang digunakan adalah 5"
   ]
  },
  {
   "cell_type": "code",
   "execution_count": null,
   "metadata": {},
   "outputs": [],
   "source": [
    "def train(net, dataloader, criterion, epochs, lr):\n",
    "    optimz = torch.optim.Adam(net.parameters(), lr=lr)\n",
    "    \n",
    "    for epoch in range(epochs):\n",
    "        for X, y in dataloader:\n",
    "            \n",
    "            output = net(X)\n",
    "            loss = criterion(output, y)\n",
    "            \n",
    "            optimz.zero_grad()\n",
    "            loss.backward()\n",
    "            optimz.step()\n",
    "            \n",
    "        print(f'epoch {epoch + 1} loss: {loss.item():.4f}')\n",
    "        \n",
    "net = simple_mlp()\n",
    "train(net, train_dataloader, criterion, 5, 0.01)\n",
    "            "
   ]
  },
  {
   "cell_type": "markdown",
   "metadata": {},
   "source": [
    "## Melakukan Prediksi Satu Step\n",
    "- Kita telah melakukan training dengan menggunakan 600 sampel data dan mencoba melakukan prediksi dari keseluruhan data.\n",
    "- Untuk itu, kita akan memperbandingkan bentuk sinyal dari data yang kita prediksi dengan data asli (x)"
   ]
  },
  {
   "cell_type": "code",
   "execution_count": null,
   "metadata": {},
   "outputs": [],
   "source": [
    "output_onestep = net(features)\n",
    "\n",
    "plt.plot(time[tau:],x[tau:])\n",
    "plt.plot(time[tau:],output_onestep.detach().numpy())\n",
    "plt.xlabel('time')\n",
    "plt.ylabel('x')\n",
    "plt.title('1-step prediction')\n",
    "plt.legend(['data', '1-step preds'])\n",
    "plt.grid()\n",
    "\n",
    "print(f'Prediksi 1-step:',output_onestep[0:6])\n",
    "print(f'Label:',labels[0:6])\n",
    "print(f'Features:',features[0:6])\n",
    "print(f'Error:',(output_onestep - labels).abs().mean())"
   ]
  },
  {
   "cell_type": "markdown",
   "metadata": {},
   "source": [
    "Jika eksperimen di atas berhasil dengan sempurna, bagaimana jika prediksi untuk setiap titik baru tidak dilakukan berdasarkan feature, melainkan hanya berdasarkan 4 data sebelumnya, dan data keluaran akan digunakan sebagai input untuk prediksi berikutnya?\n",
    "\n",
    "## Multi-Step Prediction\n",
    "\n",
    "Pertama-tama kita persiapkan dulu data masukan (sekaligus menjadi variabel keluaran dan digunakan menjadi input untuk prediksi berikutnya)."
   ]
  },
  {
   "cell_type": "code",
   "execution_count": null,
   "metadata": {},
   "outputs": [],
   "source": [
    "multistep_data = torch.zeros(T)                         # membuat array berisi '0' sebanyak 1000\n",
    "multistep_data[: n_train + tau] = x[: n_train + tau]    # mengisi array multistep_data dengan data x dari index 0 hingga 603\n",
    "\n",
    "print(multistep_data[600:606])                          # dapat diamati bahwa setelah index 603, data bernilai 0\n",
    "plt.plot(time,multistep_data)\n"
   ]
  },
  {
   "cell_type": "markdown",
   "metadata": {},
   "source": [
    "Setelah keluaran dicatat di variabel yang sama (dengan variabel masukan), keluaran tersebut digunakan untuk memprediksi nilai selanjutnya. Apa yang terjadi?"
   ]
  },
  {
   "cell_type": "code",
   "execution_count": null,
   "metadata": {},
   "outputs": [],
   "source": [
    "for i in range(n_train + tau, T):                                       # untuk setiap data yang kosong (index 604 hingga 999)\n",
    "    multistep_data[i] = net(multistep_data[i - tau:i].reshape((1,-1))) # prediksi data yang kosong dengan menggunakan 4 data sebelumnya\n",
    "\n",
    "plt.plot(time[tau:],x[tau:])\n",
    "plt.plot(time[tau:],output_onestep.detach().numpy(),linestyle='--')\n",
    "plt.plot(time,multistep_data.detach().numpy(),linestyle='dashed')\n",
    "plt.xlabel('time')\n",
    "plt.ylabel('x')\n",
    "plt.title('Multi-step prediction')\n",
    "plt.legend(['data', '1-step preds', 'multistep preds'])\n",
    "plt.grid()\n"
   ]
  },
  {
   "cell_type": "markdown",
   "metadata": {},
   "source": [
    "Yang terjadi adalah, model tidak mampu memprediksi nilai selanjutnya akibat error yang semakin menumpuk. Berbeda dengan 1-step prediction dimana setiap feature merupakan input yang benar untuk prediksi berikutnya, pada percobaan ini, keluaran yang memiliki error akan digunakan sebagai inputan selanjutnya yang mana error tersebut akan semakin bertumpuk.\n",
    "\n",
    "<div>\n",
    "<center>\n",
    "<img src=\"../assets/penjelasan-rnn2.jpg\", width=\"500\">\n",
    "</div>"
   ]
  },
  {
   "cell_type": "code",
   "execution_count": null,
   "metadata": {},
   "outputs": [],
   "source": [
    "max_steps = 64\n",
    "features = torch.zeros((T - tau - max_steps + 1, tau + max_steps))\n",
    "\n",
    "print(f'Ukuran Features:', features.shape)\n",
    "\n",
    "for i in range(tau):            # dari 0 sampai 3\n",
    "    features[:, i] = x[i: i + T - tau - max_steps + 1]\n",
    "\n",
    "for i in range(tau, tau + max_steps):\n",
    "    features[:, i] = net(features[:, i - tau:i]).reshape(-1)\n",
    "\n",
    "steps = (1, 4, 16, 64)\n",
    "\n",
    "'''\n",
    "TODO : Harusnya bisa pakai matplotlib\n",
    "'''\n",
    "d2l.plot([time[tau + i - 1: T - max_steps + i] for i in steps],\n",
    "         [features[:, (tau + i - 1)].detach().numpy() for i in steps], 'time', 'x',\n",
    "         legend=[f'{i}-step preds' for i in steps], xlim=[5, 1000],\n",
    "         figsize=(6, 3))\n"
   ]
  },
  {
   "cell_type": "markdown",
   "metadata": {},
   "source": [
    "Dapat kita lihat pada hasil prediksi diatas bahwa masing-masing step menghasilkan nilai yang berbeda. Dengan 4-step data yang dihasilkan cukup baik namun tidak dengan step-step lainnya."
   ]
  }
 ],
 "metadata": {
  "interpreter": {
   "hash": "81b9ccaf5ef21c8a6faa6d42f6e42fcf9eafd7625a2befdd601079168fccee32"
  },
  "kernelspec": {
   "display_name": "Python 3.8.13 ('py38')",
   "language": "python",
   "name": "python3"
  },
  "language_info": {
   "codemirror_mode": {
    "name": "ipython",
    "version": 3
   },
   "file_extension": ".py",
   "mimetype": "text/x-python",
   "name": "python",
   "nbconvert_exporter": "python",
   "pygments_lexer": "ipython3",
   "version": "3.8.13"
  }
 },
 "nbformat": 4,
 "nbformat_minor": 2
}
