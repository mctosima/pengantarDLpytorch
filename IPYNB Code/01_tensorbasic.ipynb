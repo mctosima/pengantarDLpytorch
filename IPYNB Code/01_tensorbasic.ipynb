{
 "cells": [
  {
   "cell_type": "markdown",
   "metadata": {},
   "source": [
    "# Dasar-dasar Operasi Tensor\n",
    "## Mengimpor library pytorch"
   ]
  },
  {
   "cell_type": "code",
   "execution_count": null,
   "metadata": {
    "pycharm": {
     "name": "#%%\n"
    }
   },
   "outputs": [],
   "source": [
    "import torch"
   ]
  },
  {
   "cell_type": "markdown",
   "metadata": {},
   "source": [
    "## Membuat variabel baru bertipe tensor"
   ]
  },
  {
   "cell_type": "code",
   "execution_count": null,
   "metadata": {
    "pycharm": {
     "name": "#%%\n"
    }
   },
   "outputs": [],
   "source": [
    "# membuat variabel kosong dengan ukuran 2,4\n",
    "emptyvar = torch.empty(2, 4)\n",
    "# membuat variabel random dengan ukuran 2,3,4\n",
    "randomvar = torch.rand(2, 3, 4)\n",
    "# membuat variabel tensor dengan nilai 1 berukuran 2,3,4\n",
    "onesvar = torch.ones(2, 3, 4)\n",
    "# membuat variabel tensor dengan nilai 0 berukuran 4,5\n",
    "zerosvar = torch.zeros(4, 5)\n",
    "# membuat variabel tensor yang berurutan sejumlah n atau dari x hingga y (bahkan dengan step atau jarak tertentu)\n",
    "rentang = torch.arange(12, dtype=torch.float32)\n",
    "rentang2 = torch.arange(0, 12, 2, dtype=torch.float32)\n",
    "\n",
    "# silahkan coba cetak satu-per-satu dari variabel diatas\n",
    "print(emptyvar, randomvar, onesvar, zerosvar, rentang, rentang2)\n"
   ]
  },
  {
   "cell_type": "markdown",
   "metadata": {},
   "source": [
    "## Membuat variabel tensor dengan tipe data spesifik"
   ]
  },
  {
   "cell_type": "code",
   "execution_count": null,
   "metadata": {
    "pycharm": {
     "name": "#%%\n"
    }
   },
   "outputs": [],
   "source": [
    "# membuat tensor dengan tipe data integer\n",
    "intvar = torch.ones(2, 2, dtype=torch.int)\n",
    "# membuat tensor dengan tipe data float\n",
    "floatvar = torch.rand(2, 2, dtype=torch.float)\n",
    "\n",
    "print(intvar, floatvar)\n",
    "print(intvar.dtype, floatvar.dtype)\n",
    "print(intvar.size(), floatvar.size())"
   ]
  },
  {
   "cell_type": "markdown",
   "metadata": {},
   "source": [
    "## Operasi Aritmatika Dasar pada Tensor"
   ]
  },
  {
   "cell_type": "code",
   "execution_count": null,
   "metadata": {},
   "outputs": [],
   "source": [
    "# mengisi tensor dengan nilai\n",
    "var_a = torch.tensor([[1, 2, 3], [4, 5, 6]])\n",
    "# operasi aritmatika pada tensor\n",
    "var_b = torch.tensor([[1, 2, 3], [4, 5, 6]])\n",
    "var_c = var_a + var_b\n",
    "print(var_c)"
   ]
  },
  {
   "cell_type": "markdown",
   "metadata": {},
   "source": [
    "## Cara Lain Operasi Penjumlahan"
   ]
  },
  {
   "cell_type": "code",
   "execution_count": null,
   "metadata": {
    "pycharm": {
     "name": "#%%\n"
    }
   },
   "outputs": [],
   "source": [
    "# cara lain\n",
    "var_c = torch.add(var_a, var_b) # hasil penjumlahan var_a dan var_b disimpan di objek BARU dengan nama variabel var_c\n",
    "print(var_c)\n",
    "\n",
    "# cara lain pada variabel yang sama (in-place operation)\n",
    "var_a.add_(var_b)\n",
    "print(var_a)\n",
    "\n",
    "# --- lebih lanjut mengenai in-place opeartion dalam pyTorch dalam diskusi : https://discuss.pytorch.org/t/what-is-in-place-operation/16244"
   ]
  },
  {
   "cell_type": "markdown",
   "metadata": {
    "pycharm": {
     "name": "#%% md\n"
    }
   },
   "source": [
    "## Operasi Aritmatika lainnya"
   ]
  },
  {
   "cell_type": "code",
   "execution_count": null,
   "metadata": {
    "pycharm": {
     "name": "#%%\n"
    }
   },
   "outputs": [],
   "source": [
    "x = torch.rand(2, 2)\n",
    "y = torch.rand(2, 2)\n",
    "\n",
    "# --- dot-product dalam pyToch \n",
    "z_kali = x * y\n",
    "z_kali_2 = torch.mul(x, y)\n",
    "# perhatikan bedanya dengan torch.mm(x, y) <- ini perkalian matriks dan \n",
    "# torch.matmul(x, y) <- ini perkalian matriks juga tapi perintah ini support broadcasting \n",
    "# (https://pytorch.org/docs/stable/notes/broadcasting.html#broadcasting-semantics)\n",
    "# ---\n",
    "\n",
    "z_bagi = x / y\n",
    "z_bagi_2 = torch.div(x, y)\n",
    "\n",
    "z_pengurangan = x - y\n",
    "z_pengurangan_2 = torch.sub(x, y)\n",
    "\n",
    "z_pangkat = x ** y\n",
    "z_pangkat_2 = torch.pow(x, y)"
   ]
  },
  {
   "cell_type": "markdown",
   "metadata": {},
   "source": [
    "## Manipulasi Matriks"
   ]
  },
  {
   "cell_type": "code",
   "execution_count": null,
   "metadata": {
    "pycharm": {
     "name": "#%%\n"
    }
   },
   "outputs": [],
   "source": [
    "x = torch.rand(5, 3)\n",
    "print(x)\n",
    "print(x[:, 0])  # mencetak hanya kolom pertama\n",
    "print(x[0, :])  # mencetak hanya baris pertama\n",
    "print(x[1, 1])  # mencetak nilai pada baris ke-1 dan kolom ke-1\n",
    "print(x[1, 1].item())  # mencetak hanya nilai (tanpa identitas jenis tensor)"
   ]
  },
  {
   "cell_type": "markdown",
   "metadata": {},
   "source": [
    "## Reshaping Matriks\n",
    "Mengubah matriks 2 dimensi menjadi array 1 dimensi"
   ]
  },
  {
   "cell_type": "code",
   "execution_count": null,
   "metadata": {
    "pycharm": {
     "name": "#%%\n"
    }
   },
   "outputs": [],
   "source": [
    "x = torch.rand(4, 4)\n",
    "print(x)\n",
    "print(x.shape)\n",
    "y = x.view(16)\n",
    "print(y)\n",
    "print(y.shape)"
   ]
  },
  {
   "cell_type": "markdown",
   "metadata": {},
   "source": [
    "Cara lain untuk mentransformasikan matriks"
   ]
  },
  {
   "cell_type": "code",
   "execution_count": null,
   "metadata": {
    "pycharm": {
     "name": "#%%\n"
    }
   },
   "outputs": [],
   "source": [
    "y = x.view(-1, 8) \n",
    "print(y)\n",
    "print(y.shape)\n",
    "# --- nilai -1 pada fungsi `view`` menandakan dimensi pertama otomatis mengikuti bentuk tensor awal, \n",
    "# dalam hal ini karena data ada 4*4 = 16 elemen, maka dimensi pertama menjadi 16/8 = 2"
   ]
  },
  {
   "cell_type": "markdown",
   "metadata": {},
   "source": [
    "## Konversi dari Numpy ke Tensor"
   ]
  },
  {
   "cell_type": "code",
   "execution_count": null,
   "metadata": {
    "pycharm": {
     "name": "#%%\n"
    }
   },
   "outputs": [],
   "source": [
    "import numpy as np\n",
    "\n",
    "a = torch.ones(5)\n",
    "print(a)\n",
    "# memberikan referensi ke variabel b, \n",
    "# gunakan a.numpy().copy() untuk membuat data baru dengan nilai yang sama dengan variabel a\n",
    "b = a.numpy() \n",
    "print(b)\n",
    "print(type(b))"
   ]
  },
  {
   "cell_type": "markdown",
   "metadata": {},
   "source": [
    "Perlu diperhatikan bahwa mengkonversi dari numpy ke tensor tidak membuat kopi, melainkan mengubah referensi dari numpy ke tensor.\n",
    "Nilai b akan berubah ketika kita melakukan modifikasi terhadap nilai a."
   ]
  },
  {
   "cell_type": "code",
   "execution_count": null,
   "metadata": {
    "pycharm": {
     "name": "#%%\n"
    }
   },
   "outputs": [],
   "source": [
    "a.add_(1)\n",
    "print(a)\n",
    "print(b)"
   ]
  },
  {
   "cell_type": "code",
   "execution_count": null,
   "metadata": {
    "pycharm": {
     "name": "#%%\n"
    }
   },
   "outputs": [],
   "source": [
    "a = np.ones(5)\n",
    "print(a)\n",
    "b = torch.from_numpy(a)\n",
    "print(b)\n",
    "\n",
    "a = a + 1\n",
    "print(a)\n",
    "print(b)\n",
    "print(type(b))"
   ]
  },
  {
   "cell_type": "markdown",
   "metadata": {},
   "source": [
    "# Operasi Menggunakan GPU"
   ]
  },
  {
   "cell_type": "code",
   "execution_count": null,
   "metadata": {
    "pycharm": {
     "name": "#%%\n"
    }
   },
   "outputs": [],
   "source": [
    "if torch.cuda.is_available():\n",
    "    # Mengatur nama device sebagai variabel\n",
    "    device = torch.device(\"cuda\")\n",
    "    # Membuat variabel tensor yang menggunakan device\n",
    "    x = torch.ones(5, device=device)\n",
    "\n",
    "    # Memindahkan variable yang sudah dibuat sebelumnya ke device\n",
    "    y = torch.ones(5)\n",
    "    y = y.to(device)\n",
    "\n",
    "    # Memindahkan kembali ke CPU\n",
    "    x = x.to(\"cpu\")"
   ]
  },
  {
   "cell_type": "markdown",
   "metadata": {
    "pycharm": {
     "name": "#%% md\n"
    }
   },
   "source": [
    "# Mengaktifkan Variabel dengan Autograd"
   ]
  },
  {
   "cell_type": "code",
   "execution_count": null,
   "metadata": {
    "pycharm": {
     "name": "#%%\n"
    }
   },
   "outputs": [],
   "source": [
    "x = torch.ones(2, 2, requires_grad=True) # memungkinkan pytorch untuk menghitung gradient secara otomatis\n",
    "print(x)"
   ]
  }
 ],
 "metadata": {
  "interpreter": {
   "hash": "813f3f0350554659212b7fa471cd1b9fb007f626271d2ac18998c1fae68f1f9a"
  },
  "kernelspec": {
   "display_name": "Python 3.8.11 64-bit ('py38': conda)",
   "language": "python",
   "name": "python3"
  },
  "language_info": {
   "codemirror_mode": {
    "name": "ipython",
    "version": 3
   },
   "file_extension": ".py",
   "mimetype": "text/x-python",
   "name": "python",
   "nbconvert_exporter": "python",
   "pygments_lexer": "ipython3",
   "version": "3.8.13"
  }
 },
 "nbformat": 4,
 "nbformat_minor": 1
}
