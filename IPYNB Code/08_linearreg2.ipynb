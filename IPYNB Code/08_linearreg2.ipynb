{
 "cells": [
  {
   "cell_type": "markdown",
   "metadata": {},
   "source": [
    "# Linear Regression 2\n",
    "### Import"
   ]
  },
  {
   "cell_type": "code",
   "execution_count": null,
   "metadata": {},
   "outputs": [],
   "source": [
    "import torch\n",
    "import torch.nn as nn\n",
    "import numpy as np\n",
    "from sklearn import datasets\n",
    "\n",
    "# mengimport package plotly\n",
    "import plotly.express as px\n",
    "import matplotlib.pyplot as plt"
   ]
  },
  {
   "cell_type": "markdown",
   "metadata": {},
   "source": [
    "### Mempersiapkan Dataset"
   ]
  },
  {
   "cell_type": "code",
   "execution_count": null,
   "metadata": {
    "pycharm": {
     "name": "#%%\n"
    }
   },
   "outputs": [],
   "source": [
    "# membuat dataset dengan menggunakan sklearn\n",
    "X_numpy, y_numpy = datasets.make_regression(n_samples=100, n_features=1, noise=20, random_state=1)\n",
    "\n",
    "# mengkonversi dataset numpy ke tensor\n",
    "X = torch.from_numpy(X_numpy.astype(np.float32))\n",
    "y = torch.from_numpy(y_numpy.astype(np.float32))\n",
    "print(X.shape)\n",
    "\n",
    "# reshape dataset menjadi 2 dimensi\n",
    "y = y.view(y.shape[0], 1)\n",
    "\n",
    "# memuat jumlah sample dan jumlah feature\n",
    "n_samples, n_features = X.shape\n",
    "\n"
   ]
  },
  {
   "cell_type": "code",
   "execution_count": null,
   "metadata": {
    "pycharm": {
     "name": "#%%\n"
    }
   },
   "outputs": [],
   "source": [
    "# memplot dataset dengan plotly\n",
    "fig = px.scatter(X_numpy, y_numpy)\n",
    "fig.show()"
   ]
  },
  {
   "cell_type": "markdown",
   "metadata": {},
   "source": [
    "### Menentukan Hyperparameter"
   ]
  },
  {
   "cell_type": "code",
   "execution_count": null,
   "metadata": {
    "pycharm": {
     "name": "#%%\n"
    }
   },
   "outputs": [],
   "source": [
    "# membuat model linear regression (inputsize, outputsize) menggunakan `nn.Linear` layer PyTorch\n",
    "model = nn.Linear(n_features, 1)\n",
    "\n",
    "# menentukan loss dan optimizer\n",
    "learning_rate = 0.01\n",
    "loss_fn = nn.MSELoss()\n",
    "optimizer = torch.optim.SGD(model.parameters(), lr=learning_rate)"
   ]
  },
  {
   "cell_type": "markdown",
   "metadata": {},
   "source": [
    "### Training"
   ]
  },
  {
   "cell_type": "code",
   "execution_count": null,
   "metadata": {
    "pycharm": {
     "name": "#%%\n"
    }
   },
   "outputs": [],
   "source": [
    "# mengiterasi model\n",
    "num_epochs = 100\n",
    "\n",
    "for epoch in range(num_epochs):\n",
    "    # lakukan prediksi y dengan model dan inputan X\n",
    "    y_predicted = model(X)\n",
    "\n",
    "    # menghitung loss dari y yang diprediksi terhadap y yang sebenarnya\n",
    "    loss = loss_fn(y_predicted, y)\n",
    "\n",
    "    # menghitung gradient dari loss\n",
    "    loss.backward()\n",
    "\n",
    "    # mengupdate model\n",
    "    optimizer.step()\n",
    "\n",
    "    # mengosongkan gradient\n",
    "    optimizer.zero_grad()\n",
    "\n",
    "    # menampilkan loss\n",
    "    if (epoch+1) % 10 == 0:\n",
    "        print('Epoch {}/{} Loss: {}'.format(epoch+1, num_epochs, loss.item()))"
   ]
  },
  {
   "cell_type": "code",
   "execution_count": null,
   "metadata": {
    "pycharm": {
     "name": "#%%\n"
    }
   },
   "outputs": [],
   "source": [
    "# mengplot hasil prediksi\n",
    "predicted = model(X).detach().numpy()\n",
    "plt.plot(X_numpy, y_numpy, 'ro', label='Actual')\n",
    "plt.plot(X_numpy, predicted, label='Predicted')\n",
    "plt.legend()\n",
    "plt.show()"
   ]
  }
 ],
 "metadata": {
  "kernelspec": {
   "display_name": "Python 3",
   "language": "python",
   "name": "python3"
  },
  "language_info": {
   "codemirror_mode": {
    "name": "ipython",
    "version": 2
   },
   "file_extension": ".py",
   "mimetype": "text/x-python",
   "name": "python",
   "nbconvert_exporter": "python",
   "pygments_lexer": "ipython2",
   "version": "2.7.6"
  }
 },
 "nbformat": 4,
 "nbformat_minor": 0
}
