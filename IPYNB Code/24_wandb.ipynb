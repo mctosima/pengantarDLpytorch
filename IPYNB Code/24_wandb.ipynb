{
 "cells": [
  {
   "cell_type": "markdown",
   "metadata": {},
   "source": [
    "## Wandb\n",
    "> Wandb adalah library untuk mencatat log histori ketika melakukan proses training. Pertama-tama, anda harus membuat akun dari situs [Wandb](https://wandb.ai/site).\n",
    "\n",
    "Contoh tampilan dari *dashboard* wandb:\n",
    "\n",
    "<div align=\"center\">\n",
    "<img src=\"../assets/wandb.png\" width=\"400\"/>\n",
    "</div>\n",
    "\n",
    "Dan pada program notebook ini, kita akan mencoba menggunakan model transfer learning dari vgg11 untuk melakukan training dengan dataset CIFAR10\n",
    "\n",
    "### Menginstall Package Wandb\n",
    "Anda dapat menginstall package python Wandb dengan cara di bawah ini:\n",
    "\n",
    "Menggunakan pip:\n",
    "\n",
    "```bash\n",
    "pip install wandb\n",
    "```\n",
    "\n",
    "Menggunakan conda:\n",
    "\n",
    "```bash\n",
    "conda install wandb -c conda-forge\n",
    "```\n",
    "\n",
    "### Mengimpor Library Wandb dan Menginisialisasi\n"
   ]
  },
  {
   "cell_type": "code",
   "execution_count": null,
   "metadata": {},
   "outputs": [],
   "source": [
    "import wandb"
   ]
  },
  {
   "cell_type": "code",
   "execution_count": null,
   "metadata": {},
   "outputs": [],
   "source": [
    "wandb.init(project=\"vggcifarm1\") # konfigurasi nama proyek (akan ditampilkan pada laman web)"
   ]
  },
  {
   "cell_type": "markdown",
   "metadata": {},
   "source": [
    "> **Note**\n",
    "> Ketika anda pertama kali menggunakan wandb, anda akan diminta untuk menginputkan API key yang didapat dari profil wandb anda. Anda dapat merujuk pada [tautan ini](https://wandb.ai/quickstart/pytorch) untuk referensi cepat wandb untuk framework PyTorch.\n",
    "\n",
    "### Mengimpor Library Lainnya"
   ]
  },
  {
   "cell_type": "code",
   "execution_count": null,
   "metadata": {},
   "outputs": [],
   "source": [
    "import torch\n",
    "import torch.nn as nn\n",
    "import torch.nn.functional as F\n",
    "import torchvision\n",
    "import torchvision.transforms as transforms\n",
    "import matplotlib.pyplot as plt\n",
    "import numpy as np\n",
    "import time"
   ]
  },
  {
   "cell_type": "markdown",
   "metadata": {},
   "source": [
    "### Memilih Device\n",
    "\n",
    "> **Note**\n",
    "> Kode dibawah ini akan memilih device \"cuda\" apabila versi PyTorch mendukung komputasi dengan kartu grafis (GPU) nvidia. Jika tidak, maka akan memilih device \"cpu\"."
   ]
  },
  {
   "cell_type": "code",
   "execution_count": null,
   "metadata": {},
   "outputs": [],
   "source": [
    "device = torch.device(\"cuda\" if torch.cuda.is_available() else \"cpu\")"
   ]
  },
  {
   "cell_type": "markdown",
   "metadata": {},
   "source": [
    "### Memuat Model\n",
    "Pada kode di bawah ini, kita akan memuat model dari vgg11 ke sebuah variable bernama vgg. Kita akan menggunakan model pretrained sehingga argumen `pretrained` akan diisi dengan `True`."
   ]
  },
  {
   "cell_type": "code",
   "execution_count": null,
   "metadata": {},
   "outputs": [],
   "source": [
    "vgg = torchvision.models.vgg11(pretrained=True)"
   ]
  },
  {
   "cell_type": "markdown",
   "metadata": {},
   "source": [
    "Kita perlu untuk melakukan transfer learning dari model vgg11 karena dataset yang kita gunakan (CIFAR10) hanya memiliki 10 kelas.\n",
    "\n",
    "Kita akan mengambil features layer dari vgg11 dan menambahkan fully-connected layer di bagian akhir dari model."
   ]
  },
  {
   "cell_type": "code",
   "execution_count": null,
   "metadata": {},
   "outputs": [],
   "source": [
    "features = vgg.features\n",
    "flat_features = nn.Flatten() # layer untuk mengubah dimensi input menjadi (batch x dimensi) (dalam kasus ini mengubah dari data 2D menjadi 1D)\n",
    "fc = nn.Linear(in_features=512, out_features=10)\n",
    "model = nn.Sequential(features, flat_features, fc)\n",
    "model = model.to(device)"
   ]
  },
  {
   "cell_type": "markdown",
   "metadata": {},
   "source": [
    "### Menentukan Loss Function dan Optimizer"
   ]
  },
  {
   "cell_type": "code",
   "execution_count": null,
   "metadata": {},
   "outputs": [],
   "source": [
    "criterion = nn.CrossEntropyLoss()\n",
    "optimizer = torch.optim.SGD(model.parameters(), lr=0.001, momentum=0.9)"
   ]
  },
  {
   "cell_type": "markdown",
   "metadata": {},
   "source": [
    "### Konfigurasi Hyperparameter\n",
    "\n",
    "Anda dapat bereksperimen dengan hyperparameter berikut"
   ]
  },
  {
   "cell_type": "code",
   "execution_count": null,
   "metadata": {},
   "outputs": [],
   "source": [
    "num_epoch = 4\n",
    "batch_size = 32\n",
    "learning_rate = 0.001"
   ]
  },
  {
   "cell_type": "markdown",
   "metadata": {},
   "source": [
    "### Dataset dan Dataloader"
   ]
  },
  {
   "cell_type": "code",
   "execution_count": null,
   "metadata": {},
   "outputs": [],
   "source": [
    "trainset = torchvision.datasets.CIFAR10(root='./data', train=True, download=True, transform=transforms.ToTensor())\n",
    "testset = torchvision.datasets.CIFAR10(root='./data', train=False, download=True, transform=transforms.ToTensor())\n",
    "trainloader = torch.utils.data.DataLoader(trainset, batch_size=batch_size, shuffle=True)\n",
    "testloader = torch.utils.data.DataLoader(testset, batch_size=batch_size, shuffle=False)"
   ]
  },
  {
   "cell_type": "markdown",
   "metadata": {},
   "source": [
    "### Training Iteration"
   ]
  },
  {
   "cell_type": "code",
   "execution_count": null,
   "metadata": {},
   "outputs": [],
   "source": [
    "# Menghitung panjang dari trainloader\n",
    "n_total_steps = len(trainloader)\n",
    "\n",
    "print(\"Start Training...\")\n",
    "\n",
    "# Menghitung waktu mulai\n",
    "start_time_train = time.time()\n",
    "\n",
    "\n",
    "for epoch in range(num_epoch):\n",
    "    start_time_epoch = time.time()\n",
    "    for i, (images, labels) in enumerate(trainloader):\n",
    "        images = images.to(device)\n",
    "        labels = labels.to(device)\n",
    "        \n",
    "        n_correct = 0\n",
    "        n_samples = 0\n",
    "        n_class_correct = [0 for i in range(10)]\n",
    "        n_class_samples = [0 for i in range(10)]\n",
    "\n",
    "        # Forward pass\n",
    "        outputs = model(images)\n",
    "        loss = criterion(outputs, labels)\n",
    "        _, predicted = torch.max(outputs, 1)\n",
    "\n",
    "        # Backward and optimize\n",
    "        optimizer.zero_grad()\n",
    "        loss.backward()\n",
    "        optimizer.step()\n",
    "        \n",
    "        n_samples += labels.size(0)\n",
    "        n_correct += (predicted == labels).sum().item()\n",
    "        \n",
    "        for ii in range(labels.size(0)):\n",
    "            label = labels[ii]\n",
    "            pred = predicted[ii]\n",
    "            if label == pred:\n",
    "                n_class_correct[label] += 1\n",
    "            n_class_samples[label] += 1\n",
    "        \n",
    "        # Mengirim log ke wandb berupa loss dan accuracy\n",
    "        wandb.log({'Training Loss': loss.item(), 'Training Accuracy': n_correct/n_samples*100})\n",
    "        \n",
    "        # Mencetak epoch dan loss setiap 50 step\n",
    "        if (i+1) % 50 == 0:\n",
    "            print(f'Epoch [{epoch+1}/{num_epoch}], Step [{i+1}/{n_total_steps}], Loss: {loss.item():.4f}')\n",
    "        \n",
    "    print(f'Time taken for epoch {epoch+1} is {time.time() - start_time_epoch}')\n",
    "    \n",
    "    # Mengirim log ke wandb berupa waktu yang dibutuhkan untuk setiap epoch\n",
    "    wandb.log({'Time taken for epoch': time.time() - start_time_epoch})\n",
    "    \n",
    "\n",
    "print(f'Total time taken for training is {time.time() - start_time_train}')"
   ]
  }
 ],
 "metadata": {
  "interpreter": {
   "hash": "81b9ccaf5ef21c8a6faa6d42f6e42fcf9eafd7625a2befdd601079168fccee32"
  },
  "kernelspec": {
   "display_name": "Python 3.8.13 ('py38')",
   "language": "python",
   "name": "python3"
  },
  "language_info": {
   "codemirror_mode": {
    "name": "ipython",
    "version": 3
   },
   "file_extension": ".py",
   "mimetype": "text/x-python",
   "name": "python",
   "nbconvert_exporter": "python",
   "pygments_lexer": "ipython3",
   "version": "3.8.13"
  }
 },
 "nbformat": 4,
 "nbformat_minor": 2
}
