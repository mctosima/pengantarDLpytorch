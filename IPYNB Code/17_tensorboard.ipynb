{
 "cells": [
  {
   "cell_type": "markdown",
   "metadata": {
    "pycharm": {
     "name": "#%% md\n"
    }
   },
   "source": [
    "# Tensorboard\n",
    "Kode ini bersumber dari modul [Feed Forward](/14_feedforward.ipynb/) dan untuk modul tensorboard ini, kita akan memodifikasi notebook ini. Setiap penambahan yang berbeda pada modul ini dibandingkan modul feedforward akan ditandai dengan menambahkan komentar.\n",
    "\n",
    "## Persiapan\n",
    "Sebelum memulai modul ini, anda harus menginstall tensorboard. Berikut perintah yang perlu anda ketikkan di terminal untuk menginstall tensorboard:\n",
    "\n",
    "**Jika anda menggunakan conda sebagai package manager anda:**\n",
    "```terminal\n",
    "conda install -c conda-forge tensorboard\n",
    "```\n",
    "\n",
    "**Jika anda tidak menggunakan conda**\n",
    "```terminal\n",
    "pip install tensorboard\n",
    "```\n",
    "\n",
    "## Menjalankan Tensorboard\n",
    "Untuk menjalankan tensorboard, anda dapat mengetikkan perintah di bawah ini melalui terminal:\n",
    "\n",
    "```terminal\n",
    "tensorboard --logdir=runs\n",
    "```\n",
    "Anda dapat mengganti ```runs``` dengan path tensorboard anda apabila anda merasa bahwa tensorboard anda tidak diinstal pada direktori default. Sesudah perintah diatas diketikkan maka akan terdapat url localhost dan port yang dapat digunakan untuk menjalankan tensorboard. Anda dapat mengklik url tersebut sehingga tensorboard terbuka di browser anda. Pada tahap ini, tensorboard memang tidak akan berjalan karena kita belum menjalankan apapun pada program.\n",
    "\n",
    "Anda dapat mengabaikan keterangan ```TensorFlow installation not found - running with reduced feature set.``` karena memang kita tidak sedang menggunakan tensorflow."
   ]
  },
  {
   "cell_type": "code",
   "execution_count": 49,
   "metadata": {
    "pycharm": {
     "name": "#%%\n"
    }
   },
   "outputs": [],
   "source": [
    "import torch\n",
    "import torch.nn as nn\n",
    "import torchvision\n",
    "import torchvision.transforms as transforms\n",
    "import matplotlib.pyplot as plt\n",
    "import torch.nn.functional as F\n"
   ]
  },
  {
   "cell_type": "markdown",
   "metadata": {
    "pycharm": {
     "name": "#%% md\n"
    }
   },
   "source": [
    "**Mengimpor Tensorboard**\n",
    "- tensorboard diimpor dengan menggunakan ```from torch.utils.tensorboard import SummaryWriter```\n",
    "- Selanjutnya kita akan menggunakan ```SummaryWriter``` untuk menulis data ke tensorboard\n",
    "- Kita membuat sebuah variabel bernama ```writer``` dan kita masukan ```SumaryWriter``` ke dalamnya beserta informasi terkait path dimana data tensorboard akan disimpan.\n",
    "- Kita juga membutuhkan import sys"
   ]
  },
  {
   "cell_type": "code",
   "execution_count": 50,
   "metadata": {
    "pycharm": {
     "name": "#%%\n"
    }
   },
   "outputs": [],
   "source": [
    "import sys\n",
    "from torch.utils.tensorboard import SummaryWriter\n",
    "writer = SummaryWriter(\"../runs/mnist4\")"
   ]
  },
  {
   "cell_type": "code",
   "execution_count": 51,
   "metadata": {
    "pycharm": {
     "name": "#%%\n"
    }
   },
   "outputs": [],
   "source": [
    "device = torch.device('cuda' if torch.cuda.is_available() else 'cpu')"
   ]
  },
  {
   "cell_type": "code",
   "execution_count": 52,
   "metadata": {
    "pycharm": {
     "name": "#%%\n"
    }
   },
   "outputs": [],
   "source": [
    "input_size = 784\n",
    "hidden_size = 500\n",
    "num_classes = 10\n",
    "num_epochs = 2\n",
    "batch_size = 100\n",
    "learning_rate = 0.01"
   ]
  },
  {
   "cell_type": "code",
   "execution_count": 53,
   "metadata": {
    "pycharm": {
     "name": "#%%\n"
    }
   },
   "outputs": [],
   "source": [
    "train_dataset = torchvision.datasets.MNIST(root='../data',\n",
    "                                           train=True,\n",
    "                                           transform=transforms.ToTensor(),\n",
    "                                           download=True)\n",
    "\n",
    "test_dataset = torchvision.datasets.MNIST(root='../data',\n",
    "                                           train=False,\n",
    "                                           transform=transforms.ToTensor())\n",
    "\n",
    "train_loader = torch.utils.data.DataLoader(dataset=train_dataset,\n",
    "                                           batch_size=batch_size,\n",
    "                                           shuffle=True)\n",
    "\n",
    "test_loader = torch.utils.data.DataLoader(dataset=test_dataset,\n",
    "                                           batch_size=batch_size,\n",
    "                                           shuffle=False)"
   ]
  },
  {
   "cell_type": "code",
   "execution_count": 54,
   "metadata": {
    "pycharm": {
     "name": "#%%\n"
    }
   },
   "outputs": [
    {
     "name": "stdout",
     "output_type": "stream",
     "text": [
      "Ukuran sample: torch.Size([100, 1, 28, 28])\n",
      "Ukuran label: torch.Size([100])\n"
     ]
    },
    {
     "data": {
      "text/plain": "<Figure size 720x288 with 6 Axes>",
      "image/png": "[encoded data removed]"
     },
     "metadata": {},
     "output_type": "display_data"
    }
   ],
   "source": [
    "example_batch = iter(train_loader)\n",
    "samples, labels = example_batch.next()\n",
    "print(f'Ukuran sample: {samples.shape}')\n",
    "print(f'Ukuran label: {labels.shape}')\n",
    "\n",
    "# show 6 samples image with label using subplot\n",
    "fig = plt.figure(figsize=(10, 4))\n",
    "for i in range(6):\n",
    "    plt.subplot(2, 3, i + 1)\n",
    "    plt.tight_layout()\n",
    "    plt.imshow(samples[i][0], cmap='gist_yarg')\n",
    "    plt.title(\"Digit: {}\".format(labels[i]))\n",
    "    plt.xticks([])\n",
    "    plt.yticks([])"
   ]
  },
  {
   "cell_type": "markdown",
   "metadata": {
    "pycharm": {
     "name": "#%% md\n"
    }
   },
   "source": [
    "**Membuat image grid untuk tensorboard**\n",
    "- Kita membuat sebuah variabel ```sample_grid``` untuk menampung data gambar yang akan ditampilkan pada tensorboard.\n",
    "- ```writer.add_image``` adalah sebuah method yang digunakan untuk mengirimkan data gambar ke tensorboard.\n",
    "- ```writer.close()``` adalah sebuah method yang digunakan untuk menutup koneksi ke tensorboard."
   ]
  },
  {
   "cell_type": "code",
   "execution_count": 55,
   "metadata": {
    "pycharm": {
     "name": "#%%\n"
    }
   },
   "outputs": [],
   "source": [
    "img_grid = torchvision.utils.make_grid(samples)\n",
    "writer.add_image('Image_Grid_MNIST', img_grid)\n",
    "writer.close()"
   ]
  },
  {
   "cell_type": "markdown",
   "metadata": {
    "pycharm": {
     "name": "#%% md\n"
    }
   },
   "source": [
    "**Menjalankan Tensorboard**\n",
    "- Untuk menjalankan tensorboard, buka terminal dan pindah ke direktori dari repositori ini (pengantarDLpytorch)\n",
    "- Setelah program ini dijalankan, akan terbentuk folder baru bernama 'runs' (sesuai dengan path pada writer)\n",
    "- Jalankan tensorboard dengan mengetikkan ```tensorboard --logdir=runs``` (apabila path anda berbeda, silahkan disesuaikan)"
   ]
  },
  {
   "cell_type": "code",
   "execution_count": 56,
   "metadata": {
    "pycharm": {
     "name": "#%%\n"
    }
   },
   "outputs": [],
   "source": [
    "class NeuralNet(nn.Module):\n",
    "    def __init__(self, input_size, hidden_size, num_classes):\n",
    "        super(NeuralNet, self).__init__()\n",
    "        self.fc1 = nn.Linear(input_size, hidden_size)\n",
    "        self.relu = nn.ReLU()\n",
    "        self.fc2 = nn.Linear(hidden_size, num_classes)\n",
    "\n",
    "    def forward(self, x):\n",
    "        out = self.fc1(x)\n",
    "        out = self.relu(out)\n",
    "        out = self.fc2(out)\n",
    "        return out\n",
    "\n",
    "model = NeuralNet(input_size, hidden_size, num_classes).to(device)"
   ]
  },
  {
   "cell_type": "code",
   "execution_count": 57,
   "metadata": {
    "pycharm": {
     "name": "#%%\n"
    }
   },
   "outputs": [],
   "source": [
    "criterion = nn.CrossEntropyLoss()\n",
    "optimizer = torch.optim.Adam(model.parameters(), lr=learning_rate)"
   ]
  },
  {
   "cell_type": "markdown",
   "metadata": {
    "pycharm": {
     "name": "#%% md\n"
    }
   },
   "source": [
    "**Membuat model graph untuk tensorboard**\n",
    "- Perintah yang digunakan adalah ```writer.add_graph```\n",
    "- ```writer.add_graph``` adalah sebuah method yang digunakan untuk mengirimkan grafik model ke tensorboard.\n",
    "- Data sampel yang kita berikan ke writer haruslah direshape terlebih dahulu"
   ]
  },
  {
   "cell_type": "code",
   "execution_count": 58,
   "metadata": {
    "pycharm": {
     "name": "#%%\n"
    }
   },
   "outputs": [],
   "source": [
    "writer.add_graph(model, samples.reshape(-1, 28*28))\n",
    "writer.close()"
   ]
  },
  {
   "cell_type": "markdown",
   "metadata": {
    "pycharm": {
     "name": "#%% md\n"
    }
   },
   "source": [
    "Setelah menjalankan bagian diatas, dapat kita amati bahwa terdapat tab baru pada tensorboard yang berjudul 'Graph'. (silahkan refresh halaman untuk melihat perubahan). Anda dapat membuka tab tersebut dan melakukan dobel-klik pada tulisan ```neural_net``` untuk melihat grafik model."
   ]
  },
  {
   "cell_type": "code",
   "execution_count": 59,
   "metadata": {
    "pycharm": {
     "name": "#%%\n"
    }
   },
   "outputs": [
    {
     "name": "stdout",
     "output_type": "stream",
     "text": [
      "Epoch [1/2], Step [100/600], Loss: 0.2642\n",
      "Epoch [1/2], Step [200/600], Loss: 0.1133\n",
      "Epoch [1/2], Step [300/600], Loss: 0.3417\n",
      "Epoch [1/2], Step [400/600], Loss: 0.1487\n",
      "Epoch [1/2], Step [500/600], Loss: 0.1137\n",
      "Epoch [1/2], Step [600/600], Loss: 0.0531\n",
      "Epoch [2/2], Step [100/600], Loss: 0.1755\n",
      "Epoch [2/2], Step [200/600], Loss: 0.0391\n",
      "Epoch [2/2], Step [300/600], Loss: 0.3811\n",
      "Epoch [2/2], Step [400/600], Loss: 0.0682\n",
      "Epoch [2/2], Step [500/600], Loss: 0.1405\n",
      "Epoch [2/2], Step [600/600], Loss: 0.1072\n"
     ]
    }
   ],
   "source": [
    "n_total_step = len(train_loader)\n",
    "\n",
    "running_loss = 0.0\n",
    "running_correct = 0\n",
    "\n",
    "for epoch in range(num_epochs):\n",
    "    for i, (images, labels) in enumerate(train_loader):\n",
    "        images = images.reshape(-1, 28*28).to(device)\n",
    "        labels = labels.to(device)\n",
    "\n",
    "        # Forward pass\n",
    "        outputs = model(images)\n",
    "        loss = criterion(outputs, labels)\n",
    "\n",
    "        # Backward pass\n",
    "        optimizer.zero_grad()\n",
    "        loss.backward()\n",
    "        optimizer.step()\n",
    "\n",
    "        running_loss += loss.item()\n",
    "        _, predicted = torch.max(outputs.data, 1)\n",
    "        running_correct += (predicted == labels).sum().item()\n",
    "\n",
    "        if (i+1) % 100 == 0:\n",
    "            print(f'Epoch [{epoch+1}/{num_epochs}], Step [{i+1}/{n_total_step}], Loss: {loss.item():.4f}')\n",
    "            writer.add_scalar('Training Loss', running_loss / 100, epoch * n_total_step + i)\n",
    "            writer.add_scalar('Accuracy', running_correct / 100, epoch * n_total_step + i)\n",
    "            running_loss = 0.0\n",
    "            running_correct = 0"
   ]
  },
  {
   "cell_type": "markdown",
   "source": [
    "**Running Loss & Running Correct**\n",
    "Pada bagian training loop ditambahkan beberapa hal seperti:\n",
    "- ```running_loss += loss.item()``` untuk menghitung loss per step\n",
    "- ```running_correct += (predicted == labels).sum().item()``` untuk menghitung jumlah benar per step\n",
    "- ```writer.add_scalar('Training Loss', running_loss / 100, epoch * n_total_step + i)``` untuk mengirimkan loss ke tensorboard\n",
    "- ```writer.add_scalar('Accuracy', running_correct / 100, epoch * n_total_step + i)``` untuk mengirimkan accuracy ke tensorboard\n",
    "- ```running_loss = 0.0``` untuk mengosongkan running loss\n",
    "- ```running_correct = 0``` untuk mengosongkan running correct"
   ],
   "metadata": {
    "collapsed": false
   }
  },
  {
   "cell_type": "code",
   "execution_count": 60,
   "metadata": {
    "pycharm": {
     "name": "#%%\n"
    }
   },
   "outputs": [
    {
     "name": "stdout",
     "output_type": "stream",
     "text": [
      "Akurasi: 96.52\n"
     ]
    }
   ],
   "source": [
    "labels = []\n",
    "preds = []\n",
    "\n",
    "\n",
    "with torch.no_grad():\n",
    "    n_correct = 0\n",
    "    n_samples = 0\n",
    "\n",
    "    for images, ylabels in test_loader:\n",
    "        images = images.reshape(-1, 28*28).to(device)\n",
    "        ylabels = ylabels.to(device)\n",
    "        outputs = model(images)\n",
    "        _, predicted = torch.max(outputs.data, 1)\n",
    "        n_samples += ylabels.size(0)\n",
    "        n_correct += (predicted == ylabels).sum().item()\n",
    "\n",
    "        class_prediction = [F.softmax(outputs, dim=0) for outputs in outputs]\n",
    "        preds.append(class_prediction)\n",
    "        labels.append(predicted)\n",
    "\n",
    "    preds = torch.cat([torch.stack(batch) for batch in preds])\n",
    "    labels = torch.cat(labels, dim=0)\n",
    "\n",
    "    accuracy = 100.0 * n_correct / n_samples\n",
    "    print(f'Akurasi: {accuracy}')\n",
    "\n",
    "    classes = range(10)\n",
    "    for i in classes:\n",
    "        labels_i = labels == i\n",
    "        preds_i = preds[:, i]\n",
    "        writer.add_pr_curve(str(i), labels_i, preds_i, global_step=0)\n",
    "        writer.close()"
   ]
  },
  {
   "cell_type": "markdown",
   "metadata": {
    "pycharm": {
     "name": "#%% md\n"
    }
   },
   "source": []
  }
 ],
 "metadata": {
  "kernelspec": {
   "display_name": "Python 3",
   "language": "python",
   "name": "python3"
  },
  "language_info": {
   "codemirror_mode": {
    "name": "ipython",
    "version": 2
   },
   "file_extension": ".py",
   "mimetype": "text/x-python",
   "name": "python",
   "nbconvert_exporter": "python",
   "pygments_lexer": "ipython2",
   "version": "2.7.6"
  }
 },
 "nbformat": 4,
 "nbformat_minor": 0
}